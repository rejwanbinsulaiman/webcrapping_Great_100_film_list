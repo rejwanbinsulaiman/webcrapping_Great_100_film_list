{
 "cells": [
  {
   "cell_type": "code",
   "execution_count": 18,
   "metadata": {},
   "outputs": [],
   "source": [
    "from bs4 import BeautifulSoup\n",
    "import requests\n",
    "url = \"https://web.archive.org/web/20200518073855/https://www.empireonline.com/movies/features/best-movies-2/\"\n",
    "response = requests.get(url)\n",
    "websitehtml = response.text\n",
    "# Now that we got hold of the web page in hackersnews variable\n",
    "# we will use beutifulshoup to levarge the automation\n",
    "soup = BeautifulSoup(websitehtml, \"html.parser\")"
   ]
  },
  {
   "cell_type": "code",
   "execution_count": 103,
   "metadata": {
    "scrolled": false
   },
   "outputs": [],
   "source": [
    "#print(soup.prettify())\n",
    "listoffilm =[]\n",
    "all_movies = soup.find_all(name=\"h3\", class_=\"title\")\n",
    "for moviestitels in all_movies:\n",
    "    films = moviestitels.getText()\n",
    "    listoffilm.append(films)\n",
    "   \n",
    "movies = listoffilm[::-1]  ## reversing the list \n",
    "\n",
    "##==== one way to write list of moves=====\n",
    "# textfile = open(\"movies.txt\", \"w\")\n",
    "# textfile.write(str(movies))\n",
    "# textfile.close()\n",
    "#======= second way to get it done=====\n",
    "\n",
    "with open(\"movies.txt\", mode=\"w\") as file:\n",
    "    for movie in movies:\n",
    "        file.write(f\"{movie}\\n\")"
   ]
  }
 ],
 "metadata": {
  "kernelspec": {
   "display_name": "Python 3",
   "language": "python",
   "name": "python3"
  },
  "language_info": {
   "codemirror_mode": {
    "name": "ipython",
    "version": 3
   },
   "file_extension": ".py",
   "mimetype": "text/x-python",
   "name": "python",
   "nbconvert_exporter": "python",
   "pygments_lexer": "ipython3",
   "version": "3.8.5"
  }
 },
 "nbformat": 4,
 "nbformat_minor": 4
}
